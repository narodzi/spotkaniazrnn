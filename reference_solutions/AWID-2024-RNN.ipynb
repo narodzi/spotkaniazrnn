{
 "cells": [
  {
   "cell_type": "code",
   "execution_count": 6,
   "id": "0798c4f4-b616-4f8d-aebb-eeb66b89507c",
   "metadata": {},
   "outputs": [
    {
     "data": {
      "text/plain": [
       "Chain(\n",
       "  Recur(\n",
       "    RNNCell(196 => 64, tanh),           \u001b[90m# 16_768 parameters\u001b[39m\n",
       "  ),\n",
       "  Dense(64 => 10),                      \u001b[90m# 650 parameters\u001b[39m\n",
       ") \u001b[90m        # Total: 6 trainable arrays, \u001b[39m17_418 parameters,\n",
       "\u001b[90m          # plus 1 non-trainable, 64 parameters, summarysize \u001b[39m68.406 KiB."
      ]
     },
     "metadata": {},
     "output_type": "display_data"
    }
   ],
   "source": [
    "# Opracowane na podstawie https://minpy.readthedocs.io/en/latest/tutorial/rnn_mnist.html\n",
    "using MLDatasets, Flux\n",
    "train_data = MLDatasets.MNIST(split=:train)\n",
    "test_data  = MLDatasets.MNIST(split=:test)\n",
    "\n",
    "function loader(data; batchsize::Int=1)\n",
    "    x1dim = reshape(data.features, 28 * 28, :) # reshape 28×28 pixels into a vector of pixels\n",
    "    yhot  = Flux.onehotbatch(data.targets, 0:9) # make a 10×60000 OneHotMatrix\n",
    "    Flux.DataLoader((x1dim, yhot); batchsize, shuffle=true)\n",
    "end\n",
    "\n",
    "net = Chain(\n",
    "    RNN((14 * 14) => 64, tanh),\n",
    "    Dense(64 => 10, identity),\n",
    ")"
   ]
  },
  {
   "cell_type": "code",
   "execution_count": 7,
   "id": "2398454e-de9f-453c-ad8a-8177b077350c",
   "metadata": {},
   "outputs": [
    {
     "name": "stdout",
     "output_type": "stream",
     "text": [
      "loss_and_accuracy(net, test_data) = (loss = 2.4254215f0, acc = 9.68, split = :test)\n"
     ]
    }
   ],
   "source": [
    "using Statistics: mean  # standard library\n",
    "function loss_and_accuracy(model, data)\n",
    "    (x,y) = only(loader(data; batchsize=length(data)))\n",
    "    Flux.reset!(model) \n",
    "    ŷ = model(x[  1:196,:])\n",
    "    ŷ = model(x[197:392,:])\n",
    "    ŷ = model(x[393:588,:])\n",
    "    ŷ = model(x[589:end,:])\n",
    "    loss = Flux.logitcrossentropy(ŷ, y)  # did not include softmax in the model\n",
    "    acc = round(100 * mean(Flux.onecold(ŷ) .== Flux.onecold(y)); digits=2)\n",
    "    (; loss, acc, split=data.split)  # return a NamedTuple\n",
    "end\n",
    "\n",
    "@show loss_and_accuracy(net, test_data);  # accuracy about 10%, before training\n",
    "\n",
    "train_log = []\n",
    "settings = (;\n",
    "    eta = 15e-3,\n",
    "    epochs = 5,\n",
    "    batchsize = 100,\n",
    ")\n",
    "\n",
    "opt_state = Flux.setup(Descent(settings.eta), net);"
   ]
  },
  {
   "cell_type": "code",
   "execution_count": 8,
   "id": "4372550b-a7e1-4f2b-88b0-7dac8e5669be",
   "metadata": {},
   "outputs": [
    {
     "name": "stderr",
     "output_type": "stream",
     "text": [
      "┌ Info: 1\n",
      "│   acc = 89.4\n",
      "│   test_acc = 90.22\n",
      "│   loss = 0.39584616\n",
      "│   test_loss = 0.3807132\n",
      "└ @ Main /Users/narodzi/Desktop/AWID-2024-RNN.ipynb:18\n",
      "┌ Info: 2\n",
      "│   acc = 91.8\n",
      "│   test_acc = 92.44\n",
      "│   loss = 0.29687232\n",
      "│   test_loss = 0.28704396\n",
      "└ @ Main /Users/narodzi/Desktop/AWID-2024-RNN.ipynb:18\n",
      "┌ Info: 3\n",
      "│   acc = 93.09\n",
      "│   test_acc = 93.34\n",
      "│   loss = 0.24829414\n",
      "│   test_loss = 0.24297515\n",
      "└ @ Main /Users/narodzi/Desktop/AWID-2024-RNN.ipynb:18\n",
      "┌ Info: 4\n",
      "│   acc = 93.89\n",
      "│   test_acc = 94.17\n",
      "│   loss = 0.21731557\n",
      "│   test_loss = 0.21421109\n",
      "└ @ Main /Users/narodzi/Desktop/AWID-2024-RNN.ipynb:18\n"
     ]
    },
    {
     "name": "stdout",
     "output_type": "stream",
     "text": [
      " 11.598772 seconds (3.04 M allocations: 16.302 GiB, 8.09% gc time, 2.63% compilation time)\n"
     ]
    },
    {
     "name": "stderr",
     "output_type": "stream",
     "text": [
      "┌ Info: 5\n",
      "│   acc = 94.63\n",
      "│   test_acc = 94.74\n",
      "│   loss = 0.19340387\n",
      "│   test_loss = 0.1917206\n",
      "└ @ Main /Users/narodzi/Desktop/AWID-2024-RNN.ipynb:18\n"
     ]
    }
   ],
   "source": [
    "using ProgressMeter\n",
    "\n",
    "@time for epoch in 1:settings.epochs\n",
    "    for (x,y) in loader(train_data, batchsize=settings.batchsize)\n",
    "        Flux.reset!(net)\n",
    "        grads = Flux.gradient(model -> let\n",
    "                ŷ = model(x[  1:196,:])\n",
    "                ŷ = model(x[197:392,:])\n",
    "                ŷ = model(x[393:588,:])\n",
    "                ŷ = model(x[589:end,:])\n",
    "                Flux.logitcrossentropy(ŷ, y)\n",
    "            end, net)\n",
    "        Flux.update!(opt_state, net, grads[1])\n",
    "    end\n",
    "    \n",
    "    loss, acc, _ = loss_and_accuracy(net, train_data)\n",
    "    test_loss, test_acc, _ = loss_and_accuracy(net, test_data)\n",
    "    @info epoch acc test_acc loss test_loss\n",
    "    nt = (; epoch, loss, acc, test_loss, test_acc) \n",
    "    push!(train_log, nt)\n",
    "end"
   ]
  },
  {
   "cell_type": "code",
   "execution_count": 9,
   "id": "7329aeba-1ee8-4933-9544-263c210804b3",
   "metadata": {},
   "outputs": [
    {
     "name": "stdout",
     "output_type": "stream",
     "text": [
      "hcat(Flux.onecold(y1hat, 0:9), Flux.onecold(y1, 0:9)) = [2 2]\n",
      "loss_and_accuracy(net, train_data) = (loss = 0.19340387f0, acc = 94.63, split = :train)\n"
     ]
    }
   ],
   "source": [
    "Flux.reset!(net)\n",
    "x1, y1 = first(loader(train_data)); # (28×28×1×1 Array{Float32, 3}, 10×1 OneHotMatrix(::Vector{UInt32}))\n",
    "y1hat = net(x1[  1:196,:])\n",
    "y1hat = net(x1[197:392,:])\n",
    "y1hat = net(x1[393:588,:])\n",
    "y1hat = net(x1[589:end,:])\n",
    "@show hcat(Flux.onecold(y1hat, 0:9), Flux.onecold(y1, 0:9))\n",
    "\n",
    "@show loss_and_accuracy(net, train_data);"
   ]
  }
 ],
 "metadata": {
  "kernelspec": {
   "display_name": "Julia 1.10.3",
   "language": "julia",
   "name": "julia-1.10"
  },
  "language_info": {
   "file_extension": ".jl",
   "mimetype": "application/julia",
   "name": "julia",
   "version": "1.10.3"
  }
 },
 "nbformat": 4,
 "nbformat_minor": 5
}
