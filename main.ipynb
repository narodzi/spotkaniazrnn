{
 "cells": [
  {
   "cell_type": "code",
   "execution_count": 1,
   "metadata": {},
   "outputs": [
    {
     "name": "stdout",
     "output_type": "stream",
     "text": [
      "Training model...\n",
      " 14.718996 seconds (40.38 M allocations: 33.483 GiB, 15.28% gc time, 10.28% compilation time)\n"
     ]
    },
    {
     "name": "stderr",
     "output_type": "stream",
     "text": [
      "┌ Info: Epoch 1\n",
      "│   loss = 0.9240956378527255\n",
      "│   train_acc = 75.24 %\n",
      "└ @ Main /Users/narodzi/Desktop/awid-projekt/model.jl:72\n"
     ]
    },
    {
     "name": "stdout",
     "output_type": "stream",
     "text": [
      " 12.960627 seconds (36.07 M allocations: 33.196 GiB, 16.59% gc time)\n"
     ]
    },
    {
     "name": "stderr",
     "output_type": "stream",
     "text": [
      "┌ Info: Epoch 2\n",
      "│   loss = 0.45379859524732225\n",
      "│   train_acc = 87.81 %\n",
      "└ @ Main /Users/narodzi/Desktop/awid-projekt/model.jl:72\n"
     ]
    },
    {
     "name": "stdout",
     "output_type": "stream",
     "text": [
      " 13.011312 seconds (36.07 M allocations: 33.196 GiB, 16.65% gc time)\n"
     ]
    },
    {
     "name": "stderr",
     "output_type": "stream",
     "text": [
      "┌ Info: Epoch 3\n",
      "│   loss = 0.36631965179573706\n",
      "│   train_acc = 89.94 %\n",
      "└ @ Main /Users/narodzi/Desktop/awid-projekt/model.jl:72\n"
     ]
    },
    {
     "name": "stdout",
     "output_type": "stream",
     "text": [
      " 13.082387 seconds (36.07 M allocations: 33.196 GiB, 16.04% gc time)\n"
     ]
    },
    {
     "name": "stderr",
     "output_type": "stream",
     "text": [
      "┌ Info: Epoch 4\n",
      "│   loss = 0.3211296526683679\n",
      "│   train_acc = 91.01 %\n",
      "└ @ Main /Users/narodzi/Desktop/awid-projekt/model.jl:72\n"
     ]
    },
    {
     "name": "stdout",
     "output_type": "stream",
     "text": [
      " 12.344077 seconds (36.07 M allocations: 33.196 GiB, 13.28% gc time)\n",
      "Testing model...\n"
     ]
    },
    {
     "name": "stderr",
     "output_type": "stream",
     "text": [
      "┌ Info: Epoch 5\n",
      "│   loss = 0.2912981812991569\n",
      "│   train_acc = 91.78 %\n",
      "└ @ Main /Users/narodzi/Desktop/awid-projekt/model.jl:72\n"
     ]
    },
    {
     "name": "stdout",
     "output_type": "stream",
     "text": [
      "  0.321395 seconds (2.03 M allocations: 194.523 MiB, 2.16% gc time)\n"
     ]
    },
    {
     "name": "stderr",
     "output_type": "stream",
     "text": [
      "┌ Info: Test\n",
      "│   test_acc = 92.6 %\n",
      "└ @ Main /Users/narodzi/Desktop/awid-projekt/model.jl:95\n"
     ]
    }
   ],
   "source": [
    "using MLDatasets: MNIST\n",
    "using Flux\n",
    "include(\"model.jl\")\n",
    "\n",
    "train_data = MNIST(split=:train)  \n",
    "test_data  = MNIST(split=:test)\n",
    "\n",
    "x_train = reshape(train_data.features, 28 * 28, :)\n",
    "y_train  = Flux.onehotbatch(train_data.targets, 0:9)\n",
    "\n",
    "x_test = reshape(test_data.features, 28 * 28, :)\n",
    "y_test  = Flux.onehotbatch(test_data.targets, 0:9)\n",
    "\n",
    "WW = Variable(Flux.glorot_uniform(64,64))\n",
    "WU = Variable(Flux.glorot_uniform(64,14*14))\n",
    "WV = Variable(Flux.glorot_uniform(10,64))\n",
    "bh = Variable(zeros(64))\n",
    "by = Variable(zeros(10))\n",
    "h = Variable(zeros(64))\n",
    "\n",
    "rnn = myRNN(WW, WU, WV, bh, by, h)\n",
    "\n",
    "settings = (;\n",
    "    eta = 15e-3,\n",
    "    epochs = 5,\n",
    "    batch_size = 100,\n",
    ")\n",
    "\n",
    "println(\"Training model...\")\n",
    "train(rnn, x_train, y_train, settings.epochs, settings.batch_size, settings.eta)\n",
    "\n",
    "println(\"Testing model...\")\n",
    "test(rnn, x_test, y_test) "
   ]
  }
 ],
 "metadata": {
  "kernelspec": {
   "display_name": "Julia 1.10.3",
   "language": "julia",
   "name": "julia-1.10"
  },
  "language_info": {
   "file_extension": ".jl",
   "mimetype": "application/julia",
   "name": "julia",
   "version": "1.10.3"
  }
 },
 "nbformat": 4,
 "nbformat_minor": 2
}
